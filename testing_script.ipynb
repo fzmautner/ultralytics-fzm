{
 "cells": [
  {
   "cell_type": "code",
   "execution_count": 9,
   "metadata": {},
   "outputs": [],
   "source": [
    "import cv2\n",
    "from ultralyticsfzm import YOLO\n",
    "from matplotlib import pyplot as plt\n",
    "import numpy as np\n",
    "import os"
   ]
  },
  {
   "cell_type": "code",
   "execution_count": 4,
   "metadata": {},
   "outputs": [
    {
     "name": "stdout",
     "output_type": "stream",
     "text": [
      "Downloading https://github.com/ultralytics/assets/releases/download/v8.2.0/yolov8m-seg.pt to 'yolov8m-seg.pt'...\n"
     ]
    },
    {
     "name": "stderr",
     "output_type": "stream",
     "text": [
      "100%|██████████| 52.4M/52.4M [00:00<00:00, 59.6MB/s]\n"
     ]
    }
   ],
   "source": [
    "model = YOLO('yolov8m-seg.pt')"
   ]
  },
  {
   "cell_type": "code",
   "execution_count": 8,
   "metadata": {},
   "outputs": [],
   "source": [
    "path_to_imgs = \"multi_polygon_data/imgs\"\n",
    "path_to_JSONS = \"multi_polygon_data/test\""
   ]
  },
  {
   "cell_type": "code",
   "execution_count": 20,
   "metadata": {},
   "outputs": [],
   "source": [
    "imgs = sorted(os.listdir(path_to_imgs))\n",
    "jsons = sorted([file for file in os.listdir(path_to_JSONS) if not file.startswith('.')])"
   ]
  },
  {
   "cell_type": "code",
   "execution_count": 24,
   "metadata": {},
   "outputs": [],
   "source": [
    "data_paths = list(zip(imgs,jsons))"
   ]
  },
  {
   "cell_type": "code",
   "execution_count": 25,
   "metadata": {},
   "outputs": [
    {
     "data": {
      "text/plain": [
       "[('8109.jpg', '8109.json'),\n",
       " ('8120.jpg', '8120.json'),\n",
       " ('8124.jpg', '8124.json'),\n",
       " ('8126.jpg', '8126.json')]"
      ]
     },
     "execution_count": 25,
     "metadata": {},
     "output_type": "execute_result"
    }
   ],
   "source": [
    "data = []\n",
    "for (img, json) in data_paths:\n",
    "    \n",
    "    # store loaded image with cv2.imread\n",
    "    img_obj = cv2.imread(path_to_imgs+\"/\"+img)\n",
    "\n",
    "    # create label.txt file with the label in YOLO format\n",
    "    label =\n",
    "    \n",
    "    data.append(img_obj, label)"
   ]
  },
  {
   "cell_type": "markdown",
   "metadata": {},
   "source": [
    "## Annotated image with just one bottle in 3 polygons"
   ]
  },
  {
   "cell_type": "code",
   "execution_count": 26,
   "metadata": {},
   "outputs": [],
   "source": [
    "poly_json_path = \"multi_polygon_data/annotations/8126.json\""
   ]
  },
  {
   "cell_type": "code",
   "execution_count": 27,
   "metadata": {},
   "outputs": [],
   "source": [
    "import json"
   ]
  },
  {
   "cell_type": "code",
   "execution_count": 28,
   "metadata": {},
   "outputs": [
    {
     "name": "stdout",
     "output_type": "stream",
     "text": [
      "[540.5494505494505, 600.0]\n",
      "[548.2417582417582, 566.4835164835165]\n",
      "[554.8351648351648, 554.3956043956043]\n",
      "[566.9230769230769, 527.4725274725274]\n",
      "[582.8571428571429, 507.1428571428571]\n",
      "[582.3076923076923, 529.1208791208791]\n",
      "[584.5054945054945, 533.5164835164835]\n",
      "[597.1428571428571, 536.2637362637363]\n",
      "[591.6483516483516, 542.8571428571429]\n",
      "[580.1098901098901, 546.7032967032967]\n",
      "[565.8241758241758, 559.3406593406593]\n",
      "[550.9890109890109, 578.021978021978]\n",
      "[594.3956043956044, 486.26373626373623]\n",
      "[601.5384615384615, 484.0659340659341]\n",
      "[621.3186813186813, 483.5164835164835]\n",
      "[632.3076923076923, 483.5164835164835]\n",
      "[644.945054945055, 486.26373626373623]\n",
      "[651.5384615384615, 489.56043956043953]\n",
      "[657.5824175824175, 491.75824175824175]\n",
      "[655.9340659340659, 457.6923076923077]\n",
      "[644.3956043956044, 454.94505494505495]\n",
      "[621.8681318681319, 452.74725274725273]\n",
      "[610.8791208791208, 452.19780219780216]\n",
      "[600.9890109890109, 456.04395604395603]\n",
      "[596.0439560439561, 479.1208791208791]\n",
      "[660.3296703296703, 503.2967032967033]\n",
      "[659.7802197802198, 521.4285714285714]\n",
      "[659.2307692307692, 528.5714285714286]\n",
      "[665.2747252747253, 533.5164835164835]\n",
      "[675.1648351648352, 537.3626373626373]\n",
      "[680.1098901098901, 545.054945054945]\n",
      "[682.8571428571429, 559.8901098901099]\n",
      "[683.4065934065934, 580.2197802197802]\n",
      "[686.1538461538462, 585.1648351648352]\n",
      "[685.6043956043956, 590.1098901098901]\n",
      "[684.5054945054945, 591.2087912087912]\n",
      "[694.3956043956043, 594.5054945054945]\n",
      "[693.2967032967033, 582.967032967033]\n",
      "[692.1978021978022, 565.3846153846154]\n",
      "[688.9010989010989, 541.2087912087912]\n",
      "[680.1098901098901, 523.0769230769231]\n",
      "[670.7692307692307, 508.79120879120876]\n"
     ]
    }
   ],
   "source": [
    "with open(poly_json_path, 'r') as file:\n",
    "    annotation_data = json.load(file)\n",
    "\n",
    "for shape in annotation_data.get('shapes', []):\n",
    "    points = shape.get('points', [])\n",
    "    for point in points:\n",
    "        print(point)"
   ]
  },
  {
   "cell_type": "code",
   "execution_count": null,
   "metadata": {},
   "outputs": [],
   "source": []
  },
  {
   "cell_type": "markdown",
   "metadata": {},
   "source": [
    "## Testing JSON2YOLO converter for multi-polygon data for merge_multi_segment function "
   ]
  },
  {
   "cell_type": "code",
   "execution_count": 30,
   "metadata": {},
   "outputs": [],
   "source": [
    "from json2yolo import convert_coco_json"
   ]
  },
  {
   "cell_type": "code",
   "execution_count": null,
   "metadata": {},
   "outputs": [],
   "source": [
    "coco_json_path =\n",
    "\n",
    "convert_coco_json(coco_json_path, use_segments=True)"
   ]
  }
 ],
 "metadata": {
  "kernelspec": {
   "display_name": "301ML",
   "language": "python",
   "name": "python3"
  },
  "language_info": {
   "codemirror_mode": {
    "name": "ipython",
    "version": 3
   },
   "file_extension": ".py",
   "mimetype": "text/x-python",
   "name": "python",
   "nbconvert_exporter": "python",
   "pygments_lexer": "ipython3",
   "version": "3.9.6"
  }
 },
 "nbformat": 4,
 "nbformat_minor": 2
}
